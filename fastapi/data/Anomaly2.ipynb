{
 "cells": [
  {
   "cell_type": "code",
   "execution_count": null,
   "metadata": {},
   "outputs": [],
   "source": [
    "import csv\n",
    "import os\n",
    "import pandas as pd\n",
    "import glob\n",
    "import re"
   ]
  },
  {
   "cell_type": "code",
   "execution_count": null,
   "metadata": {},
   "outputs": [],
   "source": [
    "path = \"C:/kodowanko/assecco/zzzklienci/\"\n",
    "all_files = [path + \"HACK_OPERACJE_DATA_TABLE.csv\", path + \"RACHUNKI.csv\", path + \"KLIENCI.csv\",  path + \"KARTY.csv\"]\n",
    "#Frames: 0-data_table, 1-rachunki, 2-klienci, 3-karty\n",
    "frames = []\n",
    "\n",
    "for filename in all_files:\n",
    "    #print(\"Df zrobiony z - > \" + filename)\n",
    "    df = pd.read_csv(filename, encoding_errors = 'ignore')\n",
    "    frames.append(df)"
   ]
  },
  {
   "cell_type": "code",
   "execution_count": null,
   "metadata": {},
   "outputs": [],
   "source": [
    "#potrzbne: [0, 1, 4, 10] [\"DATA_OPERACJI\", \"ID_UMOWY\", \"KWOTA_OBCIAZENIA\", \"KATEGORIA_WLASCIWA\"]\n",
    "frames[0] = frames[0].drop(columns=[\"KANAL\", \"KOD_OPERACJI\", \"KWOTA_UZNANIA\", \"TYTUL\", \"BENEFICJENT\", \n",
    "                                    \"ZLECENIODAWCA\", \"KURS_OBCIAZENIA\", \"KURS_UZNANIA\", \"KATEGORIA_WG_TYTULU\", \"NADKATEGORIA\"])\n",
    "frames[1] = frames[1].drop(columns=[\"KOD_PRODUKTU\", \"WALUTA\", \"DATA_ZAKONCZENIA\"])\n",
    "\n",
    "frames[2] = frames[2].drop(columns=[\"MIEJSCE_URODZENIA\", \"ADRES_KRAJ\", \"ADRES_GMINA\", \"DATA_AKT_DANYCH\",\n",
    "                                    \"PKD\", \"DATA_POWST_FIRMY\", \"FORMA_PRAWNA\",\"LICZBA_ZATRUDNIONYCH\"])\n"
   ]
  },
  {
   "cell_type": "code",
   "execution_count": null,
   "metadata": {},
   "outputs": [],
   "source": [
    "#print(frames[0])\n",
    "#print(frames[1])\n",
    "#print(frames[2])"
   ]
  },
  {
   "cell_type": "code",
   "execution_count": null,
   "metadata": {},
   "outputs": [],
   "source": [
    "df = frames[0].merge(frames[1], how=\"inner\", on=\"ID_UMOWY\")"
   ]
  },
  {
   "cell_type": "code",
   "execution_count": null,
   "metadata": {},
   "outputs": [],
   "source": [
    "df = df.merge(frames[2], how=\"inner\", on=\"ID_KLIENTA\")"
   ]
  },
  {
   "cell_type": "code",
   "execution_count": null,
   "metadata": {},
   "outputs": [],
   "source": [
    "df[df.TYP_KLIENTA == 15]\n",
    "df[df.RODZAJ_KLIENTA == \"O\"]"
   ]
  },
  {
   "cell_type": "code",
   "execution_count": null,
   "metadata": {},
   "outputs": [],
   "source": [
    "def data2int(s: str) -> int:\n",
    "    if type(s) == str:\n",
    "        return int(2021 - 1900 - int(s.split('/')[0]))\n",
    "    else:\n",
    "        return 0"
   ]
  },
  {
   "cell_type": "code",
   "execution_count": null,
   "metadata": {},
   "outputs": [],
   "source": [
    "def m(s : str) -> int:\n",
    "    if type(s) == str:\n",
    "        return int(s.split('/')[1])\n",
    "    else:\n",
    "        return 0"
   ]
  },
  {
   "cell_type": "code",
   "execution_count": null,
   "metadata": {},
   "outputs": [],
   "source": [
    "def plec(s):\n",
    "    if s == 'M':\n",
    "        return 2\n",
    "    elif s == 'K':\n",
    "        return 1\n",
    "    else:\n",
    "        return 0"
   ]
  },
  {
   "cell_type": "code",
   "execution_count": null,
   "metadata": {},
   "outputs": [],
   "source": [
    "def stan(s):\n",
    "    if s == 'kawaler':\n",
    "        return 1\n",
    "    elif s == 'onaty / matka':\n",
    "        return 2\n",
    "    elif s == 'Kawaler / pan':\n",
    "        return 3\n",
    "    elif s == 'Wdowiec / wdowa':\n",
    "        return 4\n",
    "    else:\n",
    "        return 0"
   ]
  },
  {
   "cell_type": "code",
   "execution_count": null,
   "metadata": {},
   "outputs": [],
   "source": [
    "def wyksz(s):\n",
    "    if s == 'rednie':\n",
    "        return 2\n",
    "    elif s == 'Niepene i podstawowe':\n",
    "        return 1\n",
    "    elif s == 'Zasadnicze zawodowe':\n",
    "        return 3\n",
    "    elif s == 'wysze':\n",
    "        return 4\n",
    "    else:\n",
    "        return 0"
   ]
  },
  {
   "cell_type": "code",
   "execution_count": null,
   "metadata": {},
   "outputs": [],
   "source": [
    "df['MIESIAC_OPERACJI'] = df['DATA_OPERACJI'].apply(m)\n",
    "df['WIEK_KLIENTA'] = df['DATA_URODZENIA'].apply(data2int)\n",
    "df['WIEK_KONTA'] = df['DATA_ZALOZENIA'].apply(data2int)\n",
    "df['PLEC_2'] = df['PLEC'].apply(plec)\n",
    "df['STAN_CYWILNY_2'] = df['STAN_CYWILNY'].apply(stan)\n",
    "df['WYKSZTALCENIE_2'] = df['WYKSZTALCENIE'].apply(wyksz)"
   ]
  },
  {
   "cell_type": "code",
   "execution_count": null,
   "metadata": {},
   "outputs": [],
   "source": [
    "df"
   ]
  },
  {
   "cell_type": "code",
   "execution_count": null,
   "metadata": {},
   "outputs": [],
   "source": [
    "from sklearn.preprocessing import LabelEncoder\n",
    "labelencoder = LabelEncoder()\n",
    "\n",
    "label_encoded = df\n",
    "\n",
    "label_encoded['gdagafsaf'] = labelencoder.fit_transform(label_encoded['KATEGORIA_WLASCIWA'])\n",
    "df['KATEGORIA_'] = label_encoded['gdagafsaf']\n",
    "label_encoded"
   ]
  },
  {
   "cell_type": "code",
   "execution_count": null,
   "metadata": {},
   "outputs": [],
   "source": [
    "from sklearn.preprocessing import OneHotEncoder\n",
    "\n",
    "da = OneHotEncoder(handle_unknown='ignore').fit(X)\n",
    "enc_df = pd.DataFrame(da.fit_transform(df[['KATEGORIA_WLASCIWA']]).toarray())\n",
    "\n",
    "one_hot_data = df.join(enc_df)\n",
    "one_hot_data"
   ]
  },
  {
   "cell_type": "code",
   "execution_count": null,
   "metadata": {},
   "outputs": [],
   "source": [
    "df1 = df[['PLEC_2', 'STAN_CYWILNY_2', 'WYKSZTALCENIE_2', 'KATEGORIA_']]\n",
    "df2 = df[['KWOTA_OBCIAZENIA', 'MIESIAC_OPERACJI', 'WIEK_KLIENTA', 'WIEK_KONTA']]\n",
    "df1.to_csv('C:/kodowanko/assecco/zzzklienci/dane_kategoryczne.csv')\n",
    "df2.to_csv('C:/kodowanko/assecco/zzzklienci/dane_numeryczne.csv')\n"
   ]
  }
 ],
 "metadata": {
  "kernelspec": {
   "display_name": "Python 3",
   "language": "python",
   "name": "python3"
  },
  "language_info": {
   "codemirror_mode": {
    "name": "ipython",
    "version": 3
   },
   "file_extension": ".py",
   "mimetype": "text/x-python",
   "name": "python",
   "nbconvert_exporter": "python",
   "pygments_lexer": "ipython3",
   "version": "3.8.3"
  }
 },
 "nbformat": 4,
 "nbformat_minor": 5
}
